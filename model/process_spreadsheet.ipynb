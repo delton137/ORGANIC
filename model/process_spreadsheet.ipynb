{
 "cells": [
  {
   "cell_type": "code",
   "execution_count": 4,
   "metadata": {},
   "outputs": [
    {
     "name": "stdout",
     "output_type": "stream",
     "text": [
      "The autoreload extension is already loaded. To reload it, use:\n",
      "  %reload_ext autoreload\n"
     ]
    }
   ],
   "source": [
    "%load_ext autoreload\n",
    "%autoreload\n",
    "import sys\n",
    "import pandas as pd\n",
    "import numpy as np\n",
    "import matplotlib.pyplot as plt\n",
    "from IPython.core.display import display\n",
    "import scipy.stats as stats\n",
    "import matplotlib.patches as mpatches\n",
    "import matplotlib.pyplot as plt\n",
    "from rdkit import Chem\n",
    "\n",
    "epoch_num = 2\n",
    "\n",
    "properties = ['n_atoms', 'SA', 'det. V (km/s)', 'det. P (km/s)', 'density (g/cm^3)', 'Oxygen balance 100']\n",
    "#dir_path = 'energetics_test4_det_vel/'\n",
    "#dir_path = 'energetics_test8/'\n",
    "dir_path = ''\n",
    "\n",
    "def count_natoms_in_smiles(s):\n",
    "    try:\n",
    "        natoms = Chem.MolFromSmiles(s).GetNumAtoms() #added by D.C. Elton, checks valence bonding is correct\n",
    "    except:\n",
    "        print(\"ERROR for \", s)\n",
    "        natoms = 0\n",
    "    return natoms\n",
    "\n",
    "data = pd.read_csv(dir_path+str(epoch_num)+'_verified_mols.csv')\n",
    "\n",
    "data['n_atoms'] = data['smiles'].apply(count_natoms_in_smiles)\n",
    "data['Mols'] = data['smiles'].apply(Chem.MolFromSmiles)\n",
    "       \n"
   ]
  },
  {
   "cell_type": "markdown",
   "metadata": {},
   "source": [
    "## Remove duplicates \n"
   ]
  },
  {
   "cell_type": "code",
   "execution_count": 5,
   "metadata": {},
   "outputs": [
    {
     "data": {
      "text/plain": [
       "Index(['Unnamed: 0', 'smiles', 'SA', 'det. V (km/s)', 'det. P (km/s)',\n",
       "       'density (g/cm^3)', 'Oxygen balance 100', 'n_atoms', 'Mols'],\n",
       "      dtype='object')"
      ]
     },
     "execution_count": 5,
     "metadata": {},
     "output_type": "execute_result"
    }
   ],
   "source": [
    "data.sort_values('det. P (km/s)', ascending=False, inplace=True)\n",
    "data.drop_duplicates('smiles', keep='first', inplace=True)\n",
    "\n",
    "data.columns"
   ]
  },
  {
   "cell_type": "markdown",
   "metadata": {},
   "source": [
    "## create images and put in spreadsheet"
   ]
  },
  {
   "cell_type": "code",
   "execution_count": 6,
   "metadata": {},
   "outputs": [],
   "source": [
    "import cairosvg\n",
    "from rdkit.Chem import Draw\n",
    "from rdkit.Chem.Draw import DrawingOptions\n",
    "from shutil import copyfile\n",
    "\n",
    "\n",
    "\n",
    "data['image'] = ['']*len(data)\n",
    "num2print = 30\n",
    "data2write = data[['det. V (km/s)', 'det. P (km/s)', 'density (g/cm^3)', 'SA', 'Oxygen balance 100']].iloc[0:num2print,:]\n",
    "\n",
    "\n",
    "DrawingOptions.atomLabelFontSize = 45\n",
    "DrawingOptions.dotsPerAngstrom = 100\n",
    "DrawingOptions.bondLineWidth = 3.0\n",
    " \n",
    "\n",
    "writer = pd.ExcelWriter('example_filtered_GAN_output.xlsx', engine='xlsxwriter')\n",
    "\n",
    "# Convert the dataframe to an XlsxWriter Excel object.\n",
    "data2write.to_excel(writer, sheet_name='Sheet1')\n",
    "\n",
    "# Get the xlsxwriter objects from the dataframe writer object.\n",
    "workbook  = writer.book\n",
    "worksheet = writer.sheets['Sheet1']\n",
    "\n",
    "worksheet.set_default_row(110*2)\n",
    "worksheet.set_column(0, 0, 45)\n",
    "worksheet.set_row(0, 20)\n",
    "\n",
    "\n",
    "mol_list = list(data['Mols'])[0:num2print]\n",
    "#for (i,mol) in enumerate():\n",
    "\n",
    "for (i, mol) in enumerate(mol_list):\n",
    "    try: \n",
    "        Draw.MolToFile( mol, \"temp.svg\" )\n",
    "        cairosvg.svg2png( url='./temp.svg', write_to='mol'+str(i+2)+'.png')\n",
    "    except: \n",
    "        print(\"trouble printing to svg for \", i)\n",
    "        copyfile('error.png', 'mol'+str(i+2)+'.png')\n",
    "    \n",
    "for (i, mol) in enumerate(mol_list): \n",
    "    worksheet.insert_image('A'+str(i+2), 'mol'+str(i+2)+'.png', {'x_offset': 0, 'y_offset': 0, 'x_scale': 0.75, 'y_scale':0.75})\n",
    "\n",
    "writer.save()\n",
    "\n",
    "\n",
    "# clean up folder\n",
    "import glob\n",
    "import os\n",
    "filelist=glob.glob(\"mol*.png\")\n",
    "for file in filelist:\n",
    "  os.remove(file)\n",
    "os.remove(\"temp.svg\")\n",
    "\n"
   ]
  },
  {
   "cell_type": "code",
   "execution_count": null,
   "metadata": {},
   "outputs": [],
   "source": [
    "\n",
    " \n"
   ]
  },
  {
   "cell_type": "code",
   "execution_count": null,
   "metadata": {},
   "outputs": [],
   "source": []
  },
  {
   "cell_type": "code",
   "execution_count": null,
   "metadata": {},
   "outputs": [],
   "source": []
  },
  {
   "cell_type": "code",
   "execution_count": null,
   "metadata": {},
   "outputs": [],
   "source": []
  }
 ],
 "metadata": {
  "kernelspec": {
   "display_name": "Python 3",
   "language": "python",
   "name": "python3"
  },
  "language_info": {
   "codemirror_mode": {
    "name": "ipython",
    "version": 3
   },
   "file_extension": ".py",
   "mimetype": "text/x-python",
   "name": "python",
   "nbconvert_exporter": "python",
   "pygments_lexer": "ipython3",
   "version": "3.6.4"
  }
 },
 "nbformat": 4,
 "nbformat_minor": 2
}
